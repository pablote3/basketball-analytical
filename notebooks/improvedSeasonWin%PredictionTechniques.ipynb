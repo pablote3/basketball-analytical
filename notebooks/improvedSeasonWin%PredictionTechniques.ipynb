{
  "cells": [
    {
      "metadata": {
        "_uuid": "aeae4d0b140fbdc14fb44a04b3fdfea0f00f8ba5",
        "_cell_guid": "3aa96f4b-336b-446b-8f77-a493651b62e7"
      },
      "cell_type": "markdown",
      "source": "**Introduction:**\n\nExploratory view of improving Pythagorean Win Percentage and Projected Win Percentage calculations for predicting the season win percentage by NBA teams.\n\n**Theory: **\n\nSeason win prediction calculations should be compensated based on the quality of opponents played using Strength of Schedule.\n\n**Sample data:**\n\nChose the Chicago Bulls for the 2016-2017 season because they finished with an even .500 record.  Omitted games prior to 12/15 to reduce eratic early season behavior."
    },
    {
      "metadata": {
        "_uuid": "1271e400f419757f2b590fcf9c4c66c6571c1a4d",
        "trusted": false,
        "_cell_guid": "516832a7-07c4-4b21-b21b-e2653aafd62c"
      },
      "cell_type": "code",
      "source": "library(ggplot2)\n\nstandings <- read.csv(\"../input/2016-17_standings.csv\")\nstandings$stDate <- as.Date(standings$stDate)\n\nteam <- standings[which(standings$teamAbbr=='CHI'),]\nteam <- subset(team, stDate > \"2016-12-15\")\n\ntail(team)",
      "execution_count": null,
      "outputs": []
    },
    {
      "metadata": {
        "collapsed": true,
        "_uuid": "94d17ec541e433308b44ec9e0ae7b316298f3425",
        "_cell_guid": "f17cf17e-e76f-4c10-9ae8-ae799a3b86ee"
      },
      "cell_type": "markdown",
      "source": "**Season Win Percentage:**\n\nThe fraction of games a team has won at the end of the regular season.  The goal of predicting a season win percentage is to mirror this line for the entire season."
    },
    {
      "metadata": {
        "scrolled": true,
        "_uuid": "0872d46b2f41ee193f819a5ab0d09ddd0069bd92",
        "trusted": false,
        "_cell_guid": "78668630-3761-469c-b2ae-7fecc0e060c7"
      },
      "cell_type": "code",
      "source": "maxDate <- subset(team, team$stDate == max(team$stDate))\nseasonWinPct <- maxDate$gameWon / maxDate$gamePlay\n\ng <- ggplot(data=team, aes(x=stDate)) +\n    geom_line(aes(y=seasonWinPct, color=\"Season Win%\")) +\n    ylab(label=\"Win Percentage\") +\n    xlab(label=\"Date\") +\n    ggtitle(\"12/15/16 to 04/12/17 for Chicago Bulls\") +\n    scale_colour_manual(\"\", \n        breaks = c(\"Season Win%\", \"Pyth13.91 Win%\", \"Projected Win%\", \"SosPyth13.91 Win%\", \"SosProjected Win%\"),\n        values = c(\"Season Win%\"=\"black\", \"Pyth13.91 Win%\"=\"blue\", \"Projected Win%\"=\"green\", \"SosPyth13.91 Win%\"=\"red\", \"SosProjected Win%\"=\"darkgoldenrod4\"))\ng",
      "execution_count": null,
      "outputs": []
    },
    {
      "metadata": {
        "_uuid": "ee90aed598ffc7b32224660617760ba9e346726e",
        "_cell_guid": "329ba1c7-d3fb-4fb8-a9ff-3748dba79fbd"
      },
      "cell_type": "markdown",
      "source": "**Pythagorean Win Percentage:**\n\nAn estimation of what a team’s win percentage will be at the end of the season based on the accumulated points for and against at any point during the season.\n\nThe calculation was invented by Bill James for baseball, and was later adapted to other sports.  American sports executive Daryl Morley is credited with being the first to adapt the concept to basketball, using the exponent 13.91.\n\nFormula: ptsFor ^ 13.91 / (ptsFor ^ 13.91 + ptsAgnst ^ 13.91)"
    },
    {
      "metadata": {
        "scrolled": true,
        "_uuid": "c00b78ce536a75f434d612e6f3cf0295be645cd3",
        "trusted": false,
        "_cell_guid": "61f45525-7970-4dfd-9484-8fafccc66b38"
      },
      "cell_type": "code",
      "source": "g + geom_line(aes(y=pyth.13.91, color=\"Pyth13.91 Win%\")) +\n    geom_point(aes(y=pyth.13.91, color=\"Pyth13.91 Win%\"))",
      "execution_count": null,
      "outputs": []
    },
    {
      "metadata": {
        "_uuid": "b08f89db8f3b9354af2145274545d323220ef20f",
        "_cell_guid": "bb81c51f-0822-4b82-b751-a63d37aa96d8"
      },
      "cell_type": "markdown",
      "source": "**Projected Win Percentage:**\n\nNBAstuffer defines this formula that uses a team's net overall point differential rather than points scored and points allowed.  Each point of differential translates to 2.7 wins over the course of the season.\n\nFormula: [((ptsFor – ptsAgnst) / gamePlay) * 2.7) + 41]/82"
    },
    {
      "metadata": {
        "scrolled": false,
        "_uuid": "9b208aebe926f6a4520a5d2ae29625c0d7989752",
        "trusted": false,
        "_cell_guid": "415d008e-407a-45f2-a37a-429c2658bbb2"
      },
      "cell_type": "code",
      "source": "g + geom_line(aes(y=pyth.13.91, color=\"Pyth13.91 Win%\")) +\n    geom_point(aes(y=pyth.13.91, color=\"Pyth13.91 Win%\")) +\n    geom_line(aes(y=pw., color=\"Projected Win%\")) +\n    geom_point(aes(y=pw., color=\"Projected Win%\"))",
      "execution_count": null,
      "outputs": []
    },
    {
      "metadata": {
        "_uuid": "4878a93724a262ea6ba84f13e834f30e23d19fca",
        "_cell_guid": "dcac7d17-c0b4-494b-a7cb-e6ea3afa6b78"
      },
      "cell_type": "markdown",
      "source": "**Strength of Schedule:**\n\nA rating which applies to a team's schedule such that the stronger the opponents, the higher the SOS rating, or conversely, the weaker the opponents, the lower the SOS rating.\n\nFormula: [(2 * Opponents Record) + (Opponents Opponents Record)] / 3"
    },
    {
      "metadata": {
        "_uuid": "1324d4a65757904fa67bb34e54542ac0d95b01fc",
        "_cell_guid": "55d96e83-5237-4b69-b132-ab23c4552584"
      },
      "cell_type": "markdown",
      "source": "**Pythagorean Win Percentage influence by Strength of Schedule:**\n\nFormula: (Pythagorean Win Percentage + Strength of Schedule) / 2"
    },
    {
      "metadata": {
        "_uuid": "b3911531d37a50077942fdef1b3e132c4a2e9f0c",
        "trusted": false,
        "_cell_guid": "d62c5499-fe3f-4ba9-8f83-3516da9c3f32"
      },
      "cell_type": "code",
      "source": "sosPythWinPct <- (team$pyth.13.91 + team$sos) / 2\n\ng + geom_line(aes(y=pyth.13.91, color=\"Pyth13.91 Win%\")) +\n    geom_point(aes(y=pyth.13.91, color=\"Pyth13.91 Win%\")) +\n    geom_line(aes(y=pw., color=\"Projected Win%\")) +\n    geom_point(aes(y=pw., color=\"Projected Win%\")) +\n    geom_line(aes(y=sosPythWinPct, color=\"SosPyth13.91 Win%\")) +\n    geom_point(aes(y=sosPythWinPct, color=\"SosPyth13.91 Win%\")) ",
      "execution_count": null,
      "outputs": []
    },
    {
      "metadata": {
        "_uuid": "c943b0ad0705a9027923b95b2b3edacd353c61b4",
        "_cell_guid": "813edcf5-5840-4d6c-ae4a-4e38c7874eee"
      },
      "cell_type": "markdown",
      "source": "**Projected Win Percentage influence by Strength of Schedule:**\n\nFormula: (Projected Win Percentage + Strength of Schedule) / 2"
    },
    {
      "metadata": {
        "_uuid": "f2d1af65405b6e66b8b896ae0bae5e1bc840a6c5",
        "trusted": false,
        "_cell_guid": "587f949e-6c9e-4d47-91b2-ebc04d73405b"
      },
      "cell_type": "code",
      "source": "sosProjWinPct <- (team$pw. + team$sos) / 2\n\ng + geom_line(aes(y=pyth.13.91, color=\"Pyth13.91 Win%\")) +\n    geom_point(aes(y=pyth.13.91, color=\"Pyth13.91 Win%\")) +\n    geom_line(aes(y=pw., color=\"Projected Win%\")) +\n    geom_point(aes(y=pw., color=\"Projected Win%\")) +\n    geom_line(aes(y=sosPythWinPct, color=\"SosPyth13.91 Win%\")) +\n    geom_point(aes(y=sosPythWinPct, color=\"SosPyth13.91 Win%\")) +\n    geom_line(aes(y=sosProjWinPct, color=\"SosProjected Win%\")) +\n    geom_point(aes(y=sosProjWinPct, color=\"SosProjected Win%\"))",
      "execution_count": null,
      "outputs": []
    },
    {
      "metadata": {
        "_uuid": "e86ffcf0fcd1880d7529d9c9d8d2aa9e56090902",
        "_cell_guid": "074fa131-1471-4062-9d34-c7a18237cedc"
      },
      "cell_type": "markdown",
      "source": "**Conclusion:**\n\nExcept for a few weeks in January when the Bulls record hovered around their Season Win Percentage, blending the Strength of Schedule with the Pythagorean Win Percentage and Projected Win Percentage calculations has a significant improvement from the base calculations on the sample data.\n\nNext steps would be to expand testing of these calculations against the remainder of the league and against multiple seasons.  Also evaluate if the weight given to Strength of Schedule in these formulas should be adjusted for greater accuracy."
    }
  ],
  "metadata": {
    "kernelspec": {
      "display_name": "R",
      "language": "R",
      "name": "ir"
    },
    "language_info": {
      "mimetype": "text/x-r-source",
      "version": "3.4.2",
      "name": "R",
      "pygments_lexer": "r",
      "file_extension": ".r",
      "codemirror_mode": "r"
    }
  },
  "nbformat": 4,
  "nbformat_minor": 1
}